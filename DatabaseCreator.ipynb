{
 "cells": [
  {
   "cell_type": "code",
   "execution_count": 4,
   "metadata": {
    "collapsed": true
   },
   "outputs": [],
   "source": [
    "import pandas as pd\n",
    "from pandas import DataFrame\n",
    "import random"
   ]
  },
  {
   "cell_type": "markdown",
   "metadata": {},
   "source": [
    "<h2>Create Users Function </h2>"
   ]
  },
  {
   "cell_type": "code",
   "execution_count": 5,
   "metadata": {
    "collapsed": true
   },
   "outputs": [],
   "source": [
    "def createusers(num):\n",
    "    answer=['Yes','No']\n",
    "    ls4, ls5, ls6, ls7, ls9 = ([] for i in range(5))\n",
    "    ls0=random.sample(range(1, num*4), num)\n",
    "    ls1=[None]*num \n",
    "    ls2=[None]*num\n",
    "    ls3=[None]*num\n",
    "    ls8=['Pudong']*num\n",
    "    for i in range(num):\n",
    "        ls4.append(random.randint(1,6))\n",
    "        ls5.append(random.randint(1,6))\n",
    "        ls6.append([random.randint(100,1000),random.randint(1000,10000000)])\n",
    "        ls7.append([random.randint(1,10),random.randint(11,20)])\n",
    "        ls9.append (random.choice(answer))\n",
    "\n",
    "    df = DataFrame({'user_id':ls0,'name' :ls1, 'gender' :ls2, 'profession' :ls3, 'number_of_bedrooms_wanted' :ls4, \n",
    "                'number_of_bathrooms_wanted' :ls5, 'price_range' :ls6, 'floor_range' :ls7, 'location' :ls8,'want_gym':ls9})\n",
    "    return df\n",
    "    \n",
    "result=createusers(100)\n"
   ]
  },
  {
   "cell_type": "code",
   "execution_count": 6,
   "metadata": {
    "collapsed": true
   },
   "outputs": [],
   "source": [
    "result.to_excel('file1.xlsx', sheet_name='sheet1', index=False)"
   ]
  },
  {
   "cell_type": "markdown",
   "metadata": {},
   "source": [
    "<h2> Create Properties Function </h2>"
   ]
  },
  {
   "cell_type": "code",
   "execution_count": 7,
   "metadata": {
    "collapsed": true
   },
   "outputs": [],
   "source": [
    "words= \"comfy cosy stylish adorable aesthetic pleasing affordable alluring attention-to-detail beachfront beamed beautiful brand-new breathtaking bright charming chic classic clean\"\n",
    "word=words.split()"
   ]
  },
  {
   "cell_type": "code",
   "execution_count": 8,
   "metadata": {
    "collapsed": true
   },
   "outputs": [],
   "source": [
    "def createproperties(num):\n",
    "    answer=['Yes','No']\n",
    "    ls1, ls2, ls3, ls4, ls5, ls7 = ([] for i in range(6))\n",
    "    ls0=random.sample(range(1, num*4), num)\n",
    "    ls6=['Pudong']*num\n",
    "   \n",
    "    for i in range(num):\n",
    "        ans=(random.sample(word,3))\n",
    "        ans = ' '.join(ans)\n",
    "        ls1.append(ans)\n",
    "        ls2.append(random.randint(1,6))\n",
    "        ls3.append(random.randint(1,6))\n",
    "        ls4.append([random.randint(100,1000),random.randint(1000,10000000)])\n",
    "        ls5.append([random.randint(1,10),random.randint(11,20)])\n",
    "        ans=(random.sample(word,3))\n",
    "        ans = ' '.join(ans)\n",
    "        ls7.append (random.choice(answer)) \n",
    "    \n",
    "    \n",
    "    df = DataFrame({'item_id':ls0,'description' :ls1, 'number_of_bedrooms' :ls2, 'number_of_bathrooms' :ls3, 'price' :ls4, 'floor_number' :ls5, 'location' :ls6, 'has_gym' :ls7})\n",
    "    return df\n",
    "df=createproperties(10)"
   ]
  },
  {
   "cell_type": "code",
   "execution_count": 9,
   "metadata": {
    "collapsed": true
   },
   "outputs": [],
   "source": [
    "df.to_excel('file2.xlsx', sheet_name='sheet1', index=False)"
   ]
  },
  {
   "cell_type": "markdown",
   "metadata": {},
   "source": [
    "<h2> Create Property-Description Function </h2>"
   ]
  },
  {
   "cell_type": "code",
   "execution_count": 20,
   "metadata": {},
   "outputs": [],
   "source": [
    "def createitemdescription(item_num):\n",
    "    ls1=[]\n",
    "    ls0=random.sample(range(1, item_num*4), item_num)\n",
    "    for i in range(item_num):\n",
    "        ans=(random.sample(word,5))\n",
    "        ans = ' '.join(ans)\n",
    "        ls1.append(ans)\n",
    "        \n",
    "    df = DataFrame({'item_id':[*data][:-1],'description' :ls1})\n",
    "    return df\n",
    "file=createitemdescription(20)  "
   ]
  },
  {
   "cell_type": "code",
   "execution_count": 22,
   "metadata": {},
   "outputs": [],
   "source": [
    "file.to_excel('file3.xlsx', sheet_name='sheet1', index=False)"
   ]
  },
  {
   "cell_type": "markdown",
   "metadata": {},
   "source": [
    "<h2> Create Randomized Rating Matrix </h2>"
   ]
  },
  {
   "cell_type": "code",
   "execution_count": 14,
   "metadata": {
    "collapsed": true
   },
   "outputs": [],
   "source": [
    "data={}\n",
    "def createratingmatrix(item_num,user_num):\n",
    "    values=[]\n",
    "    j=0\n",
    "    for i in range (item_num):\n",
    "        values.append([])\n",
    "    for i in range (item_num):\n",
    "        key= \"item\"+str(i)\n",
    "        val= values[i]\n",
    "        data[key]=val\n",
    "    while j<item_num: \n",
    "       for i in range (user_num): \n",
    "           values[j].append(random.randint(0,5))\n",
    "       j+=1\n",
    "    data['user']=random.sample(range(1, user_num*4), user_num)\n",
    "    res = DataFrame(data)\n",
    "    return res\n",
    "res=createratingmatrix(20,20)"
   ]
  },
  {
   "cell_type": "code",
   "execution_count": 15,
   "metadata": {
    "collapsed": true
   },
   "outputs": [],
   "source": [
    "res.to_excel('file4.xlsx', sheet_name='sheet1', index=False)"
   ]
  },
  {
   "cell_type": "markdown",
   "metadata": {},
   "source": [
    "<h2> Create Non-Randomized Rating Matrix </h2>"
   ]
  },
  {
   "cell_type": "code",
   "execution_count": 16,
   "metadata": {
    "collapsed": true
   },
   "outputs": [],
   "source": [
    "def probability(lst, prob):\n",
    "    cumulative = 0.0\n",
    "    k = random.uniform(0, 1)\n",
    "    for i, i_val in zip(lst, prob):\n",
    "        cumulative += i_val\n",
    "        if k < cumulative: \n",
    "            break\n",
    "    return i"
   ]
  },
  {
   "cell_type": "code",
   "execution_count": 17,
   "metadata": {
    "collapsed": true
   },
   "outputs": [],
   "source": [
    "lst=[0,1,2,3,4,5]\n",
    "prob=[0.2,0.1,0.3,0.3,0.1,0.0]"
   ]
  },
  {
   "cell_type": "code",
   "execution_count": 18,
   "metadata": {},
   "outputs": [],
   "source": [
    "data={}\n",
    "def createratingmatrix(item_num,user_num):\n",
    "    values=[]\n",
    "    j=0\n",
    "    for i in range (item_num):\n",
    "        values.append([])\n",
    "    for i in range (item_num):\n",
    "        key= \"item\"+str(i)\n",
    "        val= values[i]\n",
    "        data[key]=val\n",
    "    while j<item_num: \n",
    "       for i in range (user_num): \n",
    "           values[j].append(probability(lst, prob))\n",
    "       j+=1\n",
    "    data['user']=random.sample(range(1, user_num*4), user_num)\n",
    "    res = DataFrame(data)\n",
    "    return res\n",
    "res=createratingmatrix(20,20)"
   ]
  },
  {
   "cell_type": "code",
   "execution_count": 19,
   "metadata": {
    "collapsed": true
   },
   "outputs": [],
   "source": [
    "res.to_excel('file5.xlsx', sheet_name='sheet1', index=False)"
   ]
  },
  {
   "cell_type": "code",
   "execution_count": null,
   "metadata": {
    "collapsed": true
   },
   "outputs": [],
   "source": []
  }
 ],
 "metadata": {
  "kernelspec": {
   "display_name": "Python 3",
   "language": "python",
   "name": "python3"
  },
  "language_info": {
   "codemirror_mode": {
    "name": "ipython",
    "version": 3
   },
   "file_extension": ".py",
   "mimetype": "text/x-python",
   "name": "python",
   "nbconvert_exporter": "python",
   "pygments_lexer": "ipython3",
   "version": "3.7.3"
  }
 },
 "nbformat": 4,
 "nbformat_minor": 2
}
